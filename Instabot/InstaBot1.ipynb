{
 "cells": [
  {
   "cell_type": "markdown",
   "metadata": {},
   "source": [
    "Please excecute the cells from top to bottom. Necessary comments are written and question numbers are also mentioned. I have removed my account name and password"
   ]
  },
  {
   "cell_type": "code",
   "execution_count": null,
   "metadata": {},
   "outputs": [],
   "source": [
    "#importing all the required libraries\n",
    "from selenium import webdriver\n",
    "from time import sleep\n",
    "from selenium.webdriver.support.ui import WebDriverWait\n",
    "from selenium.webdriver.support import expected_conditions as EC\n",
    "from selenium.webdriver.common.by import By\n",
    "from bs4 import BeautifulSoup\n",
    "from selenium.common.exceptions import NoSuchElementException"
   ]
  },
  {
   "cell_type": "code",
   "execution_count": null,
   "metadata": {},
   "outputs": [],
   "source": [
    "driver =  webdriver.Chrome(executable_path = r'C:\\Users\\dell\\.wdm\\drivers\\chromedriver\\win32\\86.0.4240.22\\chromedriver.exe')\n",
    "#1.1 LOGIN INTO INSTAGRAM\n",
    "driver.get('https://www.instagram.com/')\n",
    "sleep(3)\n",
    "name = driver.find_element_by_name('username')\n",
    "myusername =  'SAMPLE USERNAME' \n",
    "name.send_keys(myusername)\n",
    "pas = driver.find_element_by_name('password')\n",
    "pas.send_keys('SAMPLE PASSWORD')\n",
    "login = driver.find_element_by_tag_name('button')\n",
    "login.submit()\n",
    "sleep(5)"
   ]
  },
  {
   "cell_type": "code",
   "execution_count": null,
   "metadata": {},
   "outputs": [],
   "source": [
    "#2 Printing all names of the Instagram Handles getting displayed after typing food\n",
    "search = driver.find_element_by_class_name('XTCLo')\n",
    "search.send_keys('food') #typing food in search bar\n",
    "sleep(1) \n",
    "f = []\n",
    "food = driver.find_elements_by_class_name('Ap253')\n",
    "for i in food:\n",
    "    f.append(i.get_attribute('innerHTML'))\n",
    "#printing all names except hashtags\n",
    "for i in f: \n",
    "    if i[0]=='#':\n",
    "        continue\n",
    "    print(i)"
   ]
  },
  {
   "cell_type": "code",
   "execution_count": null,
   "metadata": {},
   "outputs": [],
   "source": [
    "#clearing the searchbar\n",
    "driver.find_element_by_class_name('XTCLo').clear()\n",
    "sleep(1)"
   ]
  },
  {
   "cell_type": "code",
   "execution_count": null,
   "metadata": {},
   "outputs": [],
   "source": [
    "#3 and 4.1 Searching and opening profile of 'So Delhi'\n",
    "driver.find_element_by_class_name('XTCLo').send_keys('So Delhi')\n",
    "sleep(1)\n",
    "sodelhi = driver.find_element_by_class_name('Ap253')\n",
    "sodelhi.click()"
   ]
  },
  {
   "cell_type": "code",
   "execution_count": null,
   "metadata": {},
   "outputs": [],
   "source": [
    "#4.2 Follow 'So Delhi' or print a message if already following \n",
    "follow = driver.find_element_by_class_name('_5f5mN')\n",
    "if follow.text == 'Follow':\n",
    "    follow.click()\n",
    "else:\n",
    "    print('Already following')"
   ]
  },
  {
   "cell_type": "code",
   "execution_count": null,
   "metadata": {},
   "outputs": [],
   "source": [
    "#4.3 Unfollow 'So Delhi' or print a message if already unfollowed\n",
    "if driver.find_element_by_class_name('_5f5mN').text == 'Follow':\n",
    "    print('Already unfollowed')\n",
    "else:\n",
    "    driver.find_element_by_class_name('glyphsSpriteFriend_Follow').click()\n",
    "    driver.find_element_by_class_name('aOOlW').click()"
   ]
  },
  {
   "cell_type": "code",
   "execution_count": null,
   "metadata": {},
   "outputs": [],
   "source": [
    "#going one step back\n",
    "driver.back()"
   ]
  },
  {
   "cell_type": "code",
   "execution_count": null,
   "metadata": {},
   "outputs": [],
   "source": [
    "#5.1 Searching and Liking the top 30 posts of the ‘dilsefoodie'. Print message if you have already liked it.\n",
    "driver.find_element_by_class_name('XTCLo').clear()\n",
    "driver.find_element_by_class_name('XTCLo').send_keys('dilsefoodie')\n",
    "sleep(2)\n",
    "driver.find_element_by_class_name('Ap253').click() #opening profile\n",
    "sleep(5)\n",
    "driver.find_element_by_class_name('_9AhH0').click() #clicking on first post\n",
    "sleep(2)\n",
    "wait = WebDriverWait(driver,20) #max wait declared\n",
    "for i in range(30): \n",
    "    if BeautifulSoup(driver.find_element_by_xpath('//button[@class=\"wpO6b \"]/div/span').get_attribute(\"innerHTML\"),'html.parser').svg['aria-label'] == 'Like':\n",
    "        driver.find_element_by_xpath('//button[@class=\"wpO6b \"]/div/span').click()\n",
    "    else:\n",
    "         print('Post', i+1, 'is Already liked')\n",
    "    driver.find_element_by_class_name('_65Bje').click()\n",
    "    wait.until(EC.presence_of_element_located((By.XPATH, '//button[@class=\"wpO6b \"]/div/span')))"
   ]
  },
  {
   "cell_type": "code",
   "execution_count": null,
   "metadata": {},
   "outputs": [],
   "source": [
    "#closing the posts\n",
    "close = driver.find_element_by_xpath(\"//div[@class='_2dDPU  CkGkG']/div[3]/button\")\n",
    "close.click()"
   ]
  },
  {
   "cell_type": "code",
   "execution_count": null,
   "metadata": {},
   "outputs": [],
   "source": [
    "#5.2 Unliking the top 30 posts of the ‘dilsefoodie’. Print message if you have already unliked it.\n",
    "posts = driver.find_element_by_class_name('_9AhH0')\n",
    "posts.click()\n",
    "for i in range(30):\n",
    "    if BeautifulSoup(driver.find_element_by_xpath('//button[@class=\"wpO6b \"]/div/span').get_attribute(\"innerHTML\"),'html.parser').svg['aria-label'] == 'Unlike':\n",
    "        driver.find_element_by_xpath('//button[@class=\"wpO6b \"]/div/span').click()\n",
    "    else:\n",
    "         print('Post', i+1, 'is Already Unliked')\n",
    "    driver.find_element_by_class_name('_65Bje').click()\n",
    "    wait.until(EC.presence_of_element_located((By.XPATH, '//button[@class=\"wpO6b \"]/div/span')))"
   ]
  },
  {
   "cell_type": "code",
   "execution_count": null,
   "metadata": {},
   "outputs": [],
   "source": [
    "#closing the posts and going back\n",
    "close = driver.find_element_by_xpath(\"//div[@class='_2dDPU  CkGkG']/div[3]/button\")\n",
    "close.click()\n",
    "driver.back()\n",
    "driver.back()"
   ]
  },
  {
   "cell_type": "code",
   "execution_count": null,
   "metadata": {},
   "outputs": [],
   "source": [
    "#6.1 Extract the usernames of the first 500 followers of ‘foodtalkindia’ and ‘sodelhi’\n",
    "def usernames(name):\n",
    "    driver.find_element_by_class_name('XTCLo').clear() #clearing the space bar\n",
    "    sleep(1)\n",
    "    driver.find_element_by_class_name('XTCLo').send_keys(name) #searching for ig handle\n",
    "    sleep(5)\n",
    "    driver.find_element_by_class_name('Ap253').click() #opening profile\n",
    "    sleep(5)\n",
    "    driver.find_element_by_partial_link_text(\"followers\").click() #opening followers \n",
    "    current_height= driver.execute_script('return document.getElementsByClassName(\"isgrP\")[0].scrollHeight;')\n",
    "    print('Followers of ', name, 'are as follows:')\n",
    "    for i in range(60):\n",
    "        driver.execute_script('document.getElementsByClassName(\"isgrP\")[0].scrollTo(0, arguments[0]);',current_height) \n",
    "        sleep(3)\n",
    "        new_height = driver.execute_script('return document.getElementsByClassName(\"isgrP\")[0].scrollHeight;')\n",
    "        current_height = new_height\n",
    "    namesf = driver.find_elements_by_class_name('FPmhX')\n",
    "    k = 1\n",
    "    fol=[]\n",
    "    for i in namesf:\n",
    "        fol.append(i.get_attribute('innerHTML'))\n",
    "    for i in fol[:500]:\n",
    "        print(k, i)\n",
    "        k=k+1\n",
    "    driver.back()\n",
    "    driver.back()\n",
    "usernames('foodtalkindia')\n",
    "sleep(5)\n",
    "usernames('sodelhi')"
   ]
  },
  {
   "cell_type": "code",
   "execution_count": null,
   "metadata": {},
   "outputs": [],
   "source": [
    "#6.2 Now print all the followers of “foodtalkindia” that you are following but those who don’t follow you.\n",
    "driver.find_element_by_class_name('XTCLo').clear() #clearing the space bar\n",
    "sleep(1)\n",
    "driver.find_element_by_class_name('XTCLo').send_keys('foodtalkindia') #searching for ig handle\n",
    "sleep(5)\n",
    "driver.find_element_by_class_name('Ap253').click() #opening profile\n",
    "sleep(5)\n",
    "driver.find_element_by_partial_link_text(\"followers\").click() #opening followers\n",
    "sleep(2)\n",
    "current_height= driver.execute_script('return document.getElementsByClassName(\"isgrP\")[0].scrollHeight;')\n",
    "while True : #getting all followers by infinite scroll\n",
    "    driver.execute_script('document.getElementsByClassName(\"isgrP\")[0].scrollTo(0, arguments[0]);',current_height) \n",
    "    sleep(3)\n",
    "    new_height = driver.execute_script('return document.getElementsByClassName(\"isgrP\")[0].scrollHeight;')\n",
    "    if new_height == current_height :\n",
    "        break\n",
    "    current_height = new_height\n",
    "n = driver.find_elements_by_xpath('//div[@class=\"uu6c_\"]/div[@class=\"Pkbci\"]/button')\n",
    "followed = set() #to create a set of handles i follow from following list of foodtalkindia\n",
    "for i in range(len(n)):\n",
    "    if n[i].get_attribute('innerHTML')=='Following':\n",
    "        followed.add(driver.find_elements_by_class_name('FPmhX')[i].get_attribute('innerHTML'))\n",
    "sleep(1)\n",
    "driver.back()\n",
    "driver.find_element_by_class_name('XTCLo').clear() #clearing the space bar\n",
    "driver.find_element_by_class_name('XTCLo').send_keys(myusername) #searching for my account to get my followers\n",
    "sleep(4)\n",
    "driver.find_element_by_class_name('Ap253').click() #opening my profile\n",
    "sleep(2)\n",
    "driver.find_element_by_partial_link_text(\"followers\").click() #opening my followers\n",
    "sleep(2)\n",
    "current_height= driver.execute_script('return document.getElementsByClassName(\"isgrP\")[0].scrollHeight;')\n",
    "while True : #getting all followers by infinite scroll\n",
    "    driver.execute_script('document.getElementsByClassName(\"isgrP\")[0].scrollTo(0, arguments[0]);',current_height) \n",
    "    sleep(3)\n",
    "    new_height = driver.execute_script('return document.getElementsByClassName(\"isgrP\")[0].scrollHeight;')\n",
    "    if new_height == current_height :\n",
    "        break\n",
    "    current_height = new_height\n",
    "n = driver.find_elements_by_css_selector(\"div.PZuss a.FPmhX\")\n",
    "followers = set() #to create a set of handles who follow me\n",
    "for i in n:\n",
    "        followers.add(i.get_attribute('innerHTML'))\n",
    "reqd = followed - followers #followers of “foodtalkindia” that you i am following but those who don’t follow me.\n",
    "for i in reqd:\n",
    "    print(i)"
   ]
  },
  {
   "cell_type": "code",
   "execution_count": null,
   "metadata": {},
   "outputs": [],
   "source": [
    "#Check the story of ‘coding.ninjas\n",
    "driver.find_element_by_class_name('XTCLo').clear() #clearing the space bar\n",
    "driver.find_element_by_class_name('XTCLo').send_keys('coding.ninjas') #searching for coing.ninjas\n",
    "sleep(2)\n",
    "driver.find_element_by_class_name('Ap253').click() #opening profile\n",
    "sleep(2)\n",
    "driver.find_element_by_class_name(\"RR-M-\").click() \n",
    "#if story is not seen, height and width is more\n",
    "Height = BeautifulSoup(driver.find_element_by_class_name(\"RR-M-\").get_attribute(\"outerHTML\"),'html.parser').canvas['height'] #getting height\n",
    "Width = BeautifulSoup(driver.find_element_by_class_name(\"RR-M-\").get_attribute(\"outerHTML\"),'html.parser').canvas['width'] #getting width\n",
    "\n",
    "if int(Height) == 131 and int(Width) == 131:\n",
    "        print(\"Already Viewed\")\n",
    "elif int(Height) == 137 and int(Width) == 137:\n",
    "        driver.find_element_by_class_name(\"RR-M-\").click()\n",
    "else:\n",
    "    try :\n",
    "        driver.find_element_by_xpath(\"//section[@contains(class,'carul')]\") #if there is a story, a pop up with class carul gets displayed\n",
    "    except NoSuchElementException:\n",
    "        print(\"User has no story\")"
   ]
  }
 ],
 "metadata": {
  "kernelspec": {
   "display_name": "Python 3",
   "language": "python",
   "name": "python3"
  },
  "language_info": {
   "codemirror_mode": {
    "name": "ipython",
    "version": 3
   },
   "file_extension": ".py",
   "mimetype": "text/x-python",
   "name": "python",
   "nbconvert_exporter": "python",
   "pygments_lexer": "ipython3",
   "version": "3.8.3"
  }
 },
 "nbformat": 4,
 "nbformat_minor": 4
}
